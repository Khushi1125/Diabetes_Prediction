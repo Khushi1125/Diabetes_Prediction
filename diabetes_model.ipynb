{
 "cells": [
  {
   "cell_type": "code",
   "execution_count": 1,
   "metadata": {},
   "outputs": [
    {
     "name": "stderr",
     "output_type": "stream",
     "text": [
      "2023-01-14 15:34:58.548167: I tensorflow/core/platform/cpu_feature_guard.cc:193] This TensorFlow binary is optimized with oneAPI Deep Neural Network Library (oneDNN) to use the following CPU instructions in performance-critical operations:  AVX2 FMA\n",
      "To enable them in other operations, rebuild TensorFlow with the appropriate compiler flags.\n"
     ]
    }
   ],
   "source": [
    "#import required Libraries\n",
    "import tensorflow as tf\n",
    "import numpy as np"
   ]
  },
  {
   "cell_type": "code",
   "execution_count": 3,
   "metadata": {},
   "outputs": [
    {
     "ename": "AttributeError",
     "evalue": "module 'numpy' has no attribute 'genfromtext'",
     "output_type": "error",
     "traceback": [
      "\u001b[0;31m---------------------------------------------------------------------------\u001b[0m",
      "\u001b[0;31mAttributeError\u001b[0m                            Traceback (most recent call last)",
      "Cell \u001b[0;32mIn[3], line 3\u001b[0m\n\u001b[1;32m      1\u001b[0m \u001b[39m#import your data\u001b[39;00m\n\u001b[1;32m      2\u001b[0m \u001b[39m#First open the csv\u001b[39;00m\n\u001b[0;32m----> 3\u001b[0m csvfile \u001b[39m=\u001b[39m np\u001b[39m.\u001b[39;49mgenfromtext(\u001b[39m'\u001b[39m\u001b[39mdiabetes.csv\u001b[39m\u001b[39m'\u001b[39m)\n\u001b[1;32m      4\u001b[0m \u001b[39m#send data from the np array to individual arrays\u001b[39;00m\n\u001b[1;32m      5\u001b[0m \u001b[39m#These will need to change because your file changed\u001b[39;00m\n\u001b[1;32m      6\u001b[0m \u001b[39m#\u001b[39;00m\n\u001b[1;32m      7\u001b[0m csvfile \u001b[39m=\u001b[39m np\u001b[39m.\u001b[39mtranspose(csvfile)\n",
      "File \u001b[0;32m/Library/Frameworks/Python.framework/Versions/3.10/lib/python3.10/site-packages/numpy/__init__.py:284\u001b[0m, in \u001b[0;36m__getattr__\u001b[0;34m(attr)\u001b[0m\n\u001b[1;32m    281\u001b[0m     \u001b[39mfrom\u001b[39;00m \u001b[39m.\u001b[39;00m\u001b[39mtesting\u001b[39;00m \u001b[39mimport\u001b[39;00m Tester\n\u001b[1;32m    282\u001b[0m     \u001b[39mreturn\u001b[39;00m Tester\n\u001b[0;32m--> 284\u001b[0m \u001b[39mraise\u001b[39;00m \u001b[39mAttributeError\u001b[39;00m(\u001b[39m\"\u001b[39m\u001b[39mmodule \u001b[39m\u001b[39m{!r}\u001b[39;00m\u001b[39m has no attribute \u001b[39m\u001b[39m\"\u001b[39m\n\u001b[1;32m    285\u001b[0m                      \u001b[39m\"\u001b[39m\u001b[39m{!r}\u001b[39;00m\u001b[39m\"\u001b[39m\u001b[39m.\u001b[39mformat(\u001b[39m__name__\u001b[39m, attr))\n",
      "\u001b[0;31mAttributeError\u001b[0m: module 'numpy' has no attribute 'genfromtext'"
     ]
    }
   ],
   "source": [
    "#import your data\n",
    "#First open the csv\n",
    "csvfile = np.genfromtext('diabetes.csv')\n",
    "#send data from the np array to individual arrays\n",
    "#These will need to change because your file changed\n",
    "#\n",
    "csvfile = np.transpose(csvfile)\n",
    "age = csvfile[0]\n",
    "sex = csvfile[1]\n",
    "IMD = csvfile[2] \n",
    "BMI = csvfile[3] \n",
    "age_pre = csvfile[4] \n",
    "A1c = csvfile[5] \n",
    "time = csvfile[6]\n",
    "age_diabetes = csvfile[7] \n",
    "checks = csvfile[8]"
   ]
  },
  {
   "cell_type": "code",
   "execution_count": null,
   "metadata": {},
   "outputs": [],
   "source": [
    "#preprocess your data this will make it so certain parameters cannot exceed certain values, you'll see what I mean\n",
    "age = age/100 #implies that the model only understands ages upto 100, can change this number if require\n",
    "sex = sex #this is already preprocessed in 1 and 0\n",
    "IMD = IMD/IMD.max() # idk what this is so I normalize it by taking the max of the set\n",
    "BMI = BMI/50 # max BMI of 50 understood by the model\n",
    "A1c = A1c/A1c.max()\n",
    "time = time/time.max()\n",
    "age_diabetes = age_diabetes/age_diabetes.max()\n",
    "checks = checks/checks.max()\n"
   ]
  },
  {
   "cell_type": "code",
   "execution_count": null,
   "metadata": {},
   "outputs": [
    {
     "ename": "SyntaxError",
     "evalue": "invalid syntax (<ipython-input-2-ec9bbfd1be05>, line 5)",
     "output_type": "error",
     "traceback": [
      "\u001b[1;36m  File \u001b[1;32m\"<ipython-input-2-ec9bbfd1be05>\"\u001b[1;36m, line \u001b[1;32m5\u001b[0m\n\u001b[1;33m    tf.keras.layers.Dense(1000, activation = 'tanh')\u001b[0m\n\u001b[1;37m    ^\u001b[0m\n\u001b[1;31mSyntaxError\u001b[0m\u001b[1;31m:\u001b[0m invalid syntax\n"
     ]
    }
   ],
   "source": [
    "#Build the model\n",
    "model = tf.keras.models.Sequential(\n",
    "    [\n",
    "        tf.keras.Input(9)\n",
    "        tf.keras.layers.Dense(1000, activation = 'tanh')\n",
    "        tf.keras,layers.Dense(500, activation = 'relu')\n",
    "        tf.keras.layers.Dense(100, activation = 'sigmoid')\n",
    "        tf.keras.layers.Dense(2, activation = 'relu')\n",
    "    ]\n",
    ")\n",
    "model.summary()"
   ]
  },
  {
   "cell_type": "code",
   "execution_count": null,
   "metadata": {},
   "outputs": [],
   "source": []
  },
  {
   "cell_type": "code",
   "execution_count": null,
   "metadata": {},
   "outputs": [],
   "source": [
    "model.compile(loss = 'sparse_categorical_crossentropy', optimizer = 'adam', metrics = ['accuracy'])"
   ]
  },
  {
   "cell_type": "code",
   "execution_count": null,
   "metadata": {},
   "outputs": [],
   "source": [
    "history = model.fit(training_data_inputs, training_data_labels, epochs = 1000, validation_data=(testing_data_inputs, testing_data_labels))"
   ]
  }
 ],
 "metadata": {
  "kernelspec": {
   "display_name": "Python 3",
   "language": "python",
   "name": "python3"
  },
  "language_info": {
   "codemirror_mode": {
    "name": "ipython",
    "version": 3
   },
   "file_extension": ".py",
   "mimetype": "text/x-python",
   "name": "python",
   "nbconvert_exporter": "python",
   "pygments_lexer": "ipython3",
   "version": "3.10.2"
  },
  "orig_nbformat": 4,
  "vscode": {
   "interpreter": {
    "hash": "7e1998ff7f8aa20ada591c520b972326324e5ea05489af9e422744c7c09f6dad"
   }
  }
 },
 "nbformat": 4,
 "nbformat_minor": 2
}
